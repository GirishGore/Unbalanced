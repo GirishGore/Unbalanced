{
 "cells": [
  {
   "cell_type": "code",
   "execution_count": 1,
   "metadata": {},
   "outputs": [],
   "source": [
    "import pandas as pd\n",
    "train_data = pd.read_csv('train_cleaned.csv')\n",
    "test_data= pd.read_csv('test.csv')\n",
    "train_data['isTrain'] = 1\n",
    "test_data['isTrain'] = 0\n",
    "frames = [train_data, test_data]\n",
    "df = pd.concat(frames)"
   ]
  },
  {
   "cell_type": "code",
   "execution_count": 2,
   "metadata": {},
   "outputs": [
    {
     "data": {
      "text/html": [
       "<div>\n",
       "<style scoped>\n",
       "    .dataframe tbody tr th:only-of-type {\n",
       "        vertical-align: middle;\n",
       "    }\n",
       "\n",
       "    .dataframe tbody tr th {\n",
       "        vertical-align: top;\n",
       "    }\n",
       "\n",
       "    .dataframe thead th {\n",
       "        text-align: right;\n",
       "    }\n",
       "</style>\n",
       "<table border=\"1\" class=\"dataframe\">\n",
       "  <thead>\n",
       "    <tr style=\"text-align: right;\">\n",
       "      <th></th>\n",
       "      <th>age</th>\n",
       "      <th>industry_code</th>\n",
       "      <th>occupation_code</th>\n",
       "      <th>wage_per_hour</th>\n",
       "      <th>capital_gains</th>\n",
       "      <th>capital_losses</th>\n",
       "      <th>dividend_from_Stocks</th>\n",
       "      <th>num_person_Worked_employer</th>\n",
       "      <th>business_or_self_employed</th>\n",
       "      <th>veterans_benefits</th>\n",
       "      <th>weeks_worked_in_year</th>\n",
       "      <th>year</th>\n",
       "      <th>isTrain</th>\n",
       "    </tr>\n",
       "  </thead>\n",
       "  <tbody>\n",
       "    <tr>\n",
       "      <th>count</th>\n",
       "      <td>299285.000000</td>\n",
       "      <td>299285.000000</td>\n",
       "      <td>299285.000000</td>\n",
       "      <td>299285.000000</td>\n",
       "      <td>299285.000000</td>\n",
       "      <td>299285.000000</td>\n",
       "      <td>299285.000000</td>\n",
       "      <td>299285.000000</td>\n",
       "      <td>299285.000000</td>\n",
       "      <td>299285.000000</td>\n",
       "      <td>299285.000000</td>\n",
       "      <td>299285.000000</td>\n",
       "      <td>299285.000000</td>\n",
       "    </tr>\n",
       "    <tr>\n",
       "      <th>mean</th>\n",
       "      <td>34.538998</td>\n",
       "      <td>15.345818</td>\n",
       "      <td>11.314743</td>\n",
       "      <td>55.105027</td>\n",
       "      <td>431.742176</td>\n",
       "      <td>36.849010</td>\n",
       "      <td>195.851259</td>\n",
       "      <td>1.956172</td>\n",
       "      <td>0.176461</td>\n",
       "      <td>1.516498</td>\n",
       "      <td>23.178375</td>\n",
       "      <td>94.499998</td>\n",
       "      <td>0.666666</td>\n",
       "    </tr>\n",
       "    <tr>\n",
       "      <th>std</th>\n",
       "      <td>22.318468</td>\n",
       "      <td>18.053638</td>\n",
       "      <td>14.455980</td>\n",
       "      <td>273.340729</td>\n",
       "      <td>4670.768536</td>\n",
       "      <td>269.789771</td>\n",
       "      <td>1937.847082</td>\n",
       "      <td>2.364857</td>\n",
       "      <td>0.555240</td>\n",
       "      <td>0.850395</td>\n",
       "      <td>24.404016</td>\n",
       "      <td>0.500001</td>\n",
       "      <td>0.471406</td>\n",
       "    </tr>\n",
       "    <tr>\n",
       "      <th>min</th>\n",
       "      <td>0.000000</td>\n",
       "      <td>0.000000</td>\n",
       "      <td>0.000000</td>\n",
       "      <td>0.000000</td>\n",
       "      <td>0.000000</td>\n",
       "      <td>0.000000</td>\n",
       "      <td>0.000000</td>\n",
       "      <td>0.000000</td>\n",
       "      <td>0.000000</td>\n",
       "      <td>0.000000</td>\n",
       "      <td>0.000000</td>\n",
       "      <td>94.000000</td>\n",
       "      <td>0.000000</td>\n",
       "    </tr>\n",
       "    <tr>\n",
       "      <th>25%</th>\n",
       "      <td>15.000000</td>\n",
       "      <td>0.000000</td>\n",
       "      <td>0.000000</td>\n",
       "      <td>0.000000</td>\n",
       "      <td>0.000000</td>\n",
       "      <td>0.000000</td>\n",
       "      <td>0.000000</td>\n",
       "      <td>0.000000</td>\n",
       "      <td>0.000000</td>\n",
       "      <td>2.000000</td>\n",
       "      <td>0.000000</td>\n",
       "      <td>94.000000</td>\n",
       "      <td>0.000000</td>\n",
       "    </tr>\n",
       "    <tr>\n",
       "      <th>50%</th>\n",
       "      <td>33.000000</td>\n",
       "      <td>0.000000</td>\n",
       "      <td>0.000000</td>\n",
       "      <td>0.000000</td>\n",
       "      <td>0.000000</td>\n",
       "      <td>0.000000</td>\n",
       "      <td>0.000000</td>\n",
       "      <td>1.000000</td>\n",
       "      <td>0.000000</td>\n",
       "      <td>2.000000</td>\n",
       "      <td>8.000000</td>\n",
       "      <td>94.000000</td>\n",
       "      <td>1.000000</td>\n",
       "    </tr>\n",
       "    <tr>\n",
       "      <th>75%</th>\n",
       "      <td>50.000000</td>\n",
       "      <td>33.000000</td>\n",
       "      <td>26.000000</td>\n",
       "      <td>0.000000</td>\n",
       "      <td>0.000000</td>\n",
       "      <td>0.000000</td>\n",
       "      <td>0.000000</td>\n",
       "      <td>4.000000</td>\n",
       "      <td>0.000000</td>\n",
       "      <td>2.000000</td>\n",
       "      <td>52.000000</td>\n",
       "      <td>95.000000</td>\n",
       "      <td>1.000000</td>\n",
       "    </tr>\n",
       "    <tr>\n",
       "      <th>max</th>\n",
       "      <td>90.000000</td>\n",
       "      <td>51.000000</td>\n",
       "      <td>46.000000</td>\n",
       "      <td>9999.000000</td>\n",
       "      <td>99999.000000</td>\n",
       "      <td>4608.000000</td>\n",
       "      <td>99999.000000</td>\n",
       "      <td>6.000000</td>\n",
       "      <td>2.000000</td>\n",
       "      <td>2.000000</td>\n",
       "      <td>52.000000</td>\n",
       "      <td>95.000000</td>\n",
       "      <td>1.000000</td>\n",
       "    </tr>\n",
       "  </tbody>\n",
       "</table>\n",
       "</div>"
      ],
      "text/plain": [
       "                 age  industry_code  occupation_code  wage_per_hour  \\\n",
       "count  299285.000000  299285.000000    299285.000000  299285.000000   \n",
       "mean       34.538998      15.345818        11.314743      55.105027   \n",
       "std        22.318468      18.053638        14.455980     273.340729   \n",
       "min         0.000000       0.000000         0.000000       0.000000   \n",
       "25%        15.000000       0.000000         0.000000       0.000000   \n",
       "50%        33.000000       0.000000         0.000000       0.000000   \n",
       "75%        50.000000      33.000000        26.000000       0.000000   \n",
       "max        90.000000      51.000000        46.000000    9999.000000   \n",
       "\n",
       "       capital_gains  capital_losses  dividend_from_Stocks  \\\n",
       "count  299285.000000   299285.000000         299285.000000   \n",
       "mean      431.742176       36.849010            195.851259   \n",
       "std      4670.768536      269.789771           1937.847082   \n",
       "min         0.000000        0.000000              0.000000   \n",
       "25%         0.000000        0.000000              0.000000   \n",
       "50%         0.000000        0.000000              0.000000   \n",
       "75%         0.000000        0.000000              0.000000   \n",
       "max     99999.000000     4608.000000          99999.000000   \n",
       "\n",
       "       num_person_Worked_employer  business_or_self_employed  \\\n",
       "count               299285.000000              299285.000000   \n",
       "mean                     1.956172                   0.176461   \n",
       "std                      2.364857                   0.555240   \n",
       "min                      0.000000                   0.000000   \n",
       "25%                      0.000000                   0.000000   \n",
       "50%                      1.000000                   0.000000   \n",
       "75%                      4.000000                   0.000000   \n",
       "max                      6.000000                   2.000000   \n",
       "\n",
       "       veterans_benefits  weeks_worked_in_year           year        isTrain  \n",
       "count      299285.000000         299285.000000  299285.000000  299285.000000  \n",
       "mean            1.516498             23.178375      94.499998       0.666666  \n",
       "std             0.850395             24.404016       0.500001       0.471406  \n",
       "min             0.000000              0.000000      94.000000       0.000000  \n",
       "25%             2.000000              0.000000      94.000000       0.000000  \n",
       "50%             2.000000              8.000000      94.000000       1.000000  \n",
       "75%             2.000000             52.000000      95.000000       1.000000  \n",
       "max             2.000000             52.000000      95.000000       1.000000  "
      ]
     },
     "execution_count": 2,
     "metadata": {},
     "output_type": "execute_result"
    }
   ],
   "source": [
    "df.describe()"
   ]
  },
  {
   "cell_type": "code",
   "execution_count": 3,
   "metadata": {},
   "outputs": [
    {
     "data": {
      "text/plain": [
       "age                                  int64\n",
       "class_of_worker                     object\n",
       "industry_code                        int64\n",
       "occupation_code                      int64\n",
       "education                           object\n",
       "wage_per_hour                        int64\n",
       "enrolled_in_edu_inst_lastwk         object\n",
       "marital_status                      object\n",
       "major_industry_code                 object\n",
       "major_occupation_code               object\n",
       "race                                object\n",
       "hispanic_origin                     object\n",
       "sex                                 object\n",
       "member_of_labor_union               object\n",
       "reason_for_unemployment             object\n",
       "full_parttime_employment_stat       object\n",
       "capital_gains                        int64\n",
       "capital_losses                       int64\n",
       "dividend_from_Stocks                 int64\n",
       "tax_filer_status                    object\n",
       "region_of_previous_residence        object\n",
       "state_of_previous_residence         object\n",
       "d_household_family_stat             object\n",
       "d_household_summary                 object\n",
       "migration_msa                       object\n",
       "migration_reg                       object\n",
       "migration_within_reg                object\n",
       "live_1_year_ago                     object\n",
       "migration_sunbelt                   object\n",
       "num_person_Worked_employer           int64\n",
       "family_members_under_18             object\n",
       "country_father                      object\n",
       "country_mother                      object\n",
       "country_self                        object\n",
       "citizenship                         object\n",
       "business_or_self_employed            int64\n",
       "fill_questionnaire_veteran_admin    object\n",
       "veterans_benefits                    int64\n",
       "weeks_worked_in_year                 int64\n",
       "year                                 int64\n",
       "income_level                        object\n",
       "isTrain                              int64\n",
       "dtype: object"
      ]
     },
     "execution_count": 3,
     "metadata": {},
     "output_type": "execute_result"
    }
   ],
   "source": [
    "df.dtypes"
   ]
  },
  {
   "cell_type": "code",
   "execution_count": 4,
   "metadata": {},
   "outputs": [
    {
     "data": {
      "text/plain": [
       "count     299285\n",
       "unique         4\n",
       "top       Female\n",
       "freq      103984\n",
       "Name: sex, dtype: object"
      ]
     },
     "execution_count": 4,
     "metadata": {},
     "output_type": "execute_result"
    }
   ],
   "source": [
    "df['sex'].describe()\n"
   ]
  },
  {
   "cell_type": "code",
   "execution_count": 5,
   "metadata": {},
   "outputs": [],
   "source": [
    "df['sex'] = df['sex'].apply(lambda x: x.strip())"
   ]
  },
  {
   "cell_type": "code",
   "execution_count": 6,
   "metadata": {},
   "outputs": [
    {
     "data": {
      "text/plain": [
       "count     299285\n",
       "unique         2\n",
       "top       Female\n",
       "freq      155775\n",
       "Name: sex, dtype: object"
      ]
     },
     "execution_count": 6,
     "metadata": {},
     "output_type": "execute_result"
    }
   ],
   "source": [
    "df['sex'].describe()"
   ]
  },
  {
   "cell_type": "code",
   "execution_count": 7,
   "metadata": {},
   "outputs": [],
   "source": [
    "for ctype in df.columns[df.dtypes == 'object']:\n",
    "    df[ctype] = df[ctype].factorize()[0];"
   ]
  },
  {
   "cell_type": "code",
   "execution_count": 8,
   "metadata": {},
   "outputs": [
    {
     "data": {
      "text/plain": [
       "1    199523\n",
       "0     99762\n",
       "Name: isTrain, dtype: int64"
      ]
     },
     "execution_count": 8,
     "metadata": {},
     "output_type": "execute_result"
    }
   ],
   "source": [
    "df['sex'].unique()\n",
    "df['isTrain'].value_counts()"
   ]
  },
  {
   "cell_type": "code",
   "execution_count": 9,
   "metadata": {},
   "outputs": [
    {
     "data": {
      "text/plain": [
       "(199523, 42)"
      ]
     },
     "execution_count": 9,
     "metadata": {},
     "output_type": "execute_result"
    }
   ],
   "source": [
    "train_data = df[df.isTrain == 1]\n",
    "train_data.shape"
   ]
  },
  {
   "cell_type": "code",
   "execution_count": 10,
   "metadata": {},
   "outputs": [],
   "source": [
    "X = train_data.filter([coln for coln in train_data.columns if coln != 'income_level'])"
   ]
  },
  {
   "cell_type": "code",
   "execution_count": 11,
   "metadata": {},
   "outputs": [],
   "source": [
    "y = train_data['income_level']"
   ]
  },
  {
   "cell_type": "code",
   "execution_count": 12,
   "metadata": {},
   "outputs": [
    {
     "name": "stderr",
     "output_type": "stream",
     "text": [
      "/usr/local/lib/python3.6/dist-packages/sklearn/ensemble/forest.py:248: FutureWarning: The default value of n_estimators will change from 10 in version 0.20 to 100 in 0.22.\n",
      "  \"10 in version 0.20 to 100 in 0.22.\", FutureWarning)\n"
     ]
    },
    {
     "data": {
      "text/plain": [
       "RandomForestClassifier(bootstrap=True, class_weight=None, criterion='gini',\n",
       "            max_depth=None, max_features='auto', max_leaf_nodes=None,\n",
       "            min_impurity_decrease=0.0, min_impurity_split=None,\n",
       "            min_samples_leaf=1, min_samples_split=2,\n",
       "            min_weight_fraction_leaf=0.0, n_estimators=10, n_jobs=None,\n",
       "            oob_score=False, random_state=None, verbose=0,\n",
       "            warm_start=False)"
      ]
     },
     "execution_count": 12,
     "metadata": {},
     "output_type": "execute_result"
    }
   ],
   "source": [
    "from sklearn.ensemble import RandomForestClassifier\n",
    "rf = RandomForestClassifier()\n",
    "rf.fit(X,y)"
   ]
  },
  {
   "cell_type": "code",
   "execution_count": 13,
   "metadata": {},
   "outputs": [
    {
     "data": {
      "text/plain": [
       "<Figure size 640x480 with 1 Axes>"
      ]
     },
     "metadata": {},
     "output_type": "display_data"
    }
   ],
   "source": [
    "import matplotlib.pyplot as plt\n",
    "import numpy as np\n",
    "\n",
    "\n",
    "plt.plot(rf.feature_importances_)\n",
    "plt.xticks(np.arange(X.shape[1]), X.columns.tolist() , rotation=80)\n",
    "plt.show()\n"
   ]
  },
  {
   "cell_type": "code",
   "execution_count": 14,
   "metadata": {},
   "outputs": [],
   "source": [
    "imp = pd.DataFrame(rf.feature_importances_ ,X.columns.tolist())"
   ]
  },
  {
   "cell_type": "code",
   "execution_count": 40,
   "metadata": {},
   "outputs": [
    {
     "data": {
      "text/html": [
       "<div>\n",
       "<style scoped>\n",
       "    .dataframe tbody tr th:only-of-type {\n",
       "        vertical-align: middle;\n",
       "    }\n",
       "\n",
       "    .dataframe tbody tr th {\n",
       "        vertical-align: top;\n",
       "    }\n",
       "\n",
       "    .dataframe thead th {\n",
       "        text-align: right;\n",
       "    }\n",
       "</style>\n",
       "<table border=\"1\" class=\"dataframe\">\n",
       "  <thead>\n",
       "    <tr style=\"text-align: right;\">\n",
       "      <th></th>\n",
       "      <th>0</th>\n",
       "    </tr>\n",
       "  </thead>\n",
       "  <tbody>\n",
       "    <tr>\n",
       "      <th>Unnamed: 0</th>\n",
       "      <td>0.095346</td>\n",
       "    </tr>\n",
       "    <tr>\n",
       "      <th>age</th>\n",
       "      <td>0.093067</td>\n",
       "    </tr>\n",
       "    <tr>\n",
       "      <th>class_of_worker</th>\n",
       "      <td>0.022905</td>\n",
       "    </tr>\n",
       "    <tr>\n",
       "      <th>industry_code</th>\n",
       "      <td>0.061200</td>\n",
       "    </tr>\n",
       "    <tr>\n",
       "      <th>occupation_code</th>\n",
       "      <td>0.071943</td>\n",
       "    </tr>\n",
       "    <tr>\n",
       "      <th>education</th>\n",
       "      <td>0.058667</td>\n",
       "    </tr>\n",
       "    <tr>\n",
       "      <th>wage_per_hour</th>\n",
       "      <td>0.011811</td>\n",
       "    </tr>\n",
       "    <tr>\n",
       "      <th>enrolled_in_edu_inst_lastwk</th>\n",
       "      <td>0.001236</td>\n",
       "    </tr>\n",
       "    <tr>\n",
       "      <th>marital_status</th>\n",
       "      <td>0.017559</td>\n",
       "    </tr>\n",
       "    <tr>\n",
       "      <th>major_industry_code</th>\n",
       "      <td>0.043493</td>\n",
       "    </tr>\n",
       "    <tr>\n",
       "      <th>major_occupation_code</th>\n",
       "      <td>0.054548</td>\n",
       "    </tr>\n",
       "    <tr>\n",
       "      <th>race</th>\n",
       "      <td>0.009118</td>\n",
       "    </tr>\n",
       "    <tr>\n",
       "      <th>hispanic_origin</th>\n",
       "      <td>0.006512</td>\n",
       "    </tr>\n",
       "    <tr>\n",
       "      <th>sex</th>\n",
       "      <td>0.029416</td>\n",
       "    </tr>\n",
       "    <tr>\n",
       "      <th>member_of_labor_union</th>\n",
       "      <td>0.012186</td>\n",
       "    </tr>\n",
       "    <tr>\n",
       "      <th>reason_for_unemployment</th>\n",
       "      <td>0.002314</td>\n",
       "    </tr>\n",
       "    <tr>\n",
       "      <th>full_parttime_employment_stat</th>\n",
       "      <td>0.015565</td>\n",
       "    </tr>\n",
       "    <tr>\n",
       "      <th>capital_gains</th>\n",
       "      <td>0.089899</td>\n",
       "    </tr>\n",
       "    <tr>\n",
       "      <th>capital_losses</th>\n",
       "      <td>0.026391</td>\n",
       "    </tr>\n",
       "    <tr>\n",
       "      <th>dividend_from_Stocks</th>\n",
       "      <td>0.080976</td>\n",
       "    </tr>\n",
       "    <tr>\n",
       "      <th>tax_filer_status</th>\n",
       "      <td>0.013787</td>\n",
       "    </tr>\n",
       "    <tr>\n",
       "      <th>region_of_previous_residence</th>\n",
       "      <td>0.002748</td>\n",
       "    </tr>\n",
       "    <tr>\n",
       "      <th>state_of_previous_residence</th>\n",
       "      <td>0.004060</td>\n",
       "    </tr>\n",
       "    <tr>\n",
       "      <th>d_household_family_stat</th>\n",
       "      <td>0.017461</td>\n",
       "    </tr>\n",
       "    <tr>\n",
       "      <th>d_household_summary</th>\n",
       "      <td>0.009893</td>\n",
       "    </tr>\n",
       "    <tr>\n",
       "      <th>migration_msa</th>\n",
       "      <td>0.002474</td>\n",
       "    </tr>\n",
       "    <tr>\n",
       "      <th>migration_reg</th>\n",
       "      <td>0.002522</td>\n",
       "    </tr>\n",
       "    <tr>\n",
       "      <th>migration_within_reg</th>\n",
       "      <td>0.002699</td>\n",
       "    </tr>\n",
       "    <tr>\n",
       "      <th>live_1_year_ago</th>\n",
       "      <td>0.010163</td>\n",
       "    </tr>\n",
       "    <tr>\n",
       "      <th>migration_sunbelt</th>\n",
       "      <td>0.002107</td>\n",
       "    </tr>\n",
       "    <tr>\n",
       "      <th>num_person_Worked_employer</th>\n",
       "      <td>0.039855</td>\n",
       "    </tr>\n",
       "    <tr>\n",
       "      <th>family_members_under_18</th>\n",
       "      <td>0.000562</td>\n",
       "    </tr>\n",
       "    <tr>\n",
       "      <th>country_father</th>\n",
       "      <td>0.011863</td>\n",
       "    </tr>\n",
       "    <tr>\n",
       "      <th>country_mother</th>\n",
       "      <td>0.012320</td>\n",
       "    </tr>\n",
       "    <tr>\n",
       "      <th>country_self</th>\n",
       "      <td>0.006395</td>\n",
       "    </tr>\n",
       "    <tr>\n",
       "      <th>citizenship</th>\n",
       "      <td>0.007013</td>\n",
       "    </tr>\n",
       "    <tr>\n",
       "      <th>business_or_self_employed</th>\n",
       "      <td>0.013097</td>\n",
       "    </tr>\n",
       "    <tr>\n",
       "      <th>fill_questionnaire_veteran_admin</th>\n",
       "      <td>0.001869</td>\n",
       "    </tr>\n",
       "    <tr>\n",
       "      <th>veterans_benefits</th>\n",
       "      <td>0.001743</td>\n",
       "    </tr>\n",
       "    <tr>\n",
       "      <th>weeks_worked_in_year</th>\n",
       "      <td>0.024807</td>\n",
       "    </tr>\n",
       "    <tr>\n",
       "      <th>year</th>\n",
       "      <td>0.008412</td>\n",
       "    </tr>\n",
       "  </tbody>\n",
       "</table>\n",
       "</div>"
      ],
      "text/plain": [
       "                                         0\n",
       "Unnamed: 0                        0.095346\n",
       "age                               0.093067\n",
       "class_of_worker                   0.022905\n",
       "industry_code                     0.061200\n",
       "occupation_code                   0.071943\n",
       "education                         0.058667\n",
       "wage_per_hour                     0.011811\n",
       "enrolled_in_edu_inst_lastwk       0.001236\n",
       "marital_status                    0.017559\n",
       "major_industry_code               0.043493\n",
       "major_occupation_code             0.054548\n",
       "race                              0.009118\n",
       "hispanic_origin                   0.006512\n",
       "sex                               0.029416\n",
       "member_of_labor_union             0.012186\n",
       "reason_for_unemployment           0.002314\n",
       "full_parttime_employment_stat     0.015565\n",
       "capital_gains                     0.089899\n",
       "capital_losses                    0.026391\n",
       "dividend_from_Stocks              0.080976\n",
       "tax_filer_status                  0.013787\n",
       "region_of_previous_residence      0.002748\n",
       "state_of_previous_residence       0.004060\n",
       "d_household_family_stat           0.017461\n",
       "d_household_summary               0.009893\n",
       "migration_msa                     0.002474\n",
       "migration_reg                     0.002522\n",
       "migration_within_reg              0.002699\n",
       "live_1_year_ago                   0.010163\n",
       "migration_sunbelt                 0.002107\n",
       "num_person_Worked_employer        0.039855\n",
       "family_members_under_18           0.000562\n",
       "country_father                    0.011863\n",
       "country_mother                    0.012320\n",
       "country_self                      0.006395\n",
       "citizenship                       0.007013\n",
       "business_or_self_employed         0.013097\n",
       "fill_questionnaire_veteran_admin  0.001869\n",
       "veterans_benefits                 0.001743\n",
       "weeks_worked_in_year              0.024807\n",
       "year                              0.008412"
      ]
     },
     "execution_count": 40,
     "metadata": {},
     "output_type": "execute_result"
    }
   ],
   "source": [
    "imp"
   ]
  },
  {
   "cell_type": "code",
   "execution_count": 15,
   "metadata": {},
   "outputs": [],
   "source": [
    "test_data = df[df.isTrain == 0]\n",
    "X_test = test_data.filter([coln for coln in train_data.columns if coln != 'income_level'])\n",
    "y_test = test_data['income_level']"
   ]
  },
  {
   "cell_type": "code",
   "execution_count": 17,
   "metadata": {},
   "outputs": [],
   "source": [
    "from sklearn.model_selection import cross_val_predict\n",
    "predict = cross_val_predict(rf , X_test , y_test , cv = 10)\n"
   ]
  },
  {
   "cell_type": "code",
   "execution_count": 19,
   "metadata": {},
   "outputs": [
    {
     "data": {
      "text/plain": [
       "array([[92589,   987],\n",
       "       [ 3821,  2365]])"
      ]
     },
     "execution_count": 19,
     "metadata": {},
     "output_type": "execute_result"
    }
   ],
   "source": [
    "from sklearn.metrics import confusion_matrix , precision_score , recall_score , f1_score\n",
    "confusion_matrix(y_test , predict)\n"
   ]
  },
  {
   "cell_type": "code",
   "execution_count": 20,
   "metadata": {},
   "outputs": [
    {
     "data": {
      "text/plain": [
       "0.9518052966059221"
      ]
     },
     "execution_count": 20,
     "metadata": {},
     "output_type": "execute_result"
    }
   ],
   "source": [
    "precision_score(y_test , predict , average='micro')\n"
   ]
  },
  {
   "cell_type": "code",
   "execution_count": 21,
   "metadata": {},
   "outputs": [
    {
     "data": {
      "text/plain": [
       "0.8329580539209656"
      ]
     },
     "execution_count": 21,
     "metadata": {},
     "output_type": "execute_result"
    }
   ],
   "source": [
    "precision_score(y_test , predict , average='macro')\n"
   ]
  },
  {
   "cell_type": "code",
   "execution_count": 22,
   "metadata": {},
   "outputs": [
    {
     "data": {
      "text/plain": [
       "0.6858836641608637"
      ]
     },
     "execution_count": 22,
     "metadata": {},
     "output_type": "execute_result"
    }
   ],
   "source": [
    "recall_score(y_test , predict , average='macro')\n"
   ]
  },
  {
   "cell_type": "code",
   "execution_count": 23,
   "metadata": {},
   "outputs": [
    {
     "data": {
      "text/plain": [
       "0.7353019822892911"
      ]
     },
     "execution_count": 23,
     "metadata": {},
     "output_type": "execute_result"
    }
   ],
   "source": [
    "f1_score(y_test , predict , average='macro')"
   ]
  },
  {
   "cell_type": "code",
   "execution_count": null,
   "metadata": {},
   "outputs": [],
   "source": []
  }
 ],
 "metadata": {
  "kernelspec": {
   "display_name": "Python 3",
   "language": "python",
   "name": "python3"
  },
  "language_info": {
   "codemirror_mode": {
    "name": "ipython",
    "version": 3
   },
   "file_extension": ".py",
   "mimetype": "text/x-python",
   "name": "python",
   "nbconvert_exporter": "python",
   "pygments_lexer": "ipython3",
   "version": "3.6.6"
  }
 },
 "nbformat": 4,
 "nbformat_minor": 2
}
