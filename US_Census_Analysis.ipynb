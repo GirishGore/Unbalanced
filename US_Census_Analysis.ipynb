{
 "cells": [
  {
   "cell_type": "code",
   "execution_count": 3,
   "metadata": {},
   "outputs": [],
   "source": [
    "import pandas as pd\n",
    "input_data = pd.read_csv('train.csv')\n"
   ]
  },
  {
   "cell_type": "code",
   "execution_count": 4,
   "metadata": {},
   "outputs": [
    {
     "data": {
      "text/plain": [
       "Index(['age', 'class_of_worker', 'industry_code', 'occupation_code',\n",
       "       'education', 'wage_per_hour', 'enrolled_in_edu_inst_lastwk',\n",
       "       'marital_status', 'major_industry_code', 'major_occupation_code',\n",
       "       'race', 'hispanic_origin', 'sex', 'member_of_labor_union',\n",
       "       'reason_for_unemployment', 'full_parttime_employment_stat',\n",
       "       'capital_gains', 'capital_losses', 'dividend_from_Stocks',\n",
       "       'tax_filer_status', 'region_of_previous_residence',\n",
       "       'state_of_previous_residence', 'd_household_family_stat',\n",
       "       'd_household_summary', 'migration_msa', 'migration_reg',\n",
       "       'migration_within_reg', 'live_1_year_ago', 'migration_sunbelt',\n",
       "       'num_person_Worked_employer', 'family_members_under_18',\n",
       "       'country_father', 'country_mother', 'country_self', 'citizenship',\n",
       "       'business_or_self_employed', 'fill_questionnaire_veteran_admin',\n",
       "       'veterans_benefits', 'weeks_worked_in_year', 'year', 'income_level'],\n",
       "      dtype='object')"
      ]
     },
     "execution_count": 4,
     "metadata": {},
     "output_type": "execute_result"
    }
   ],
   "source": [
    "input_data.columns"
   ]
  },
  {
   "cell_type": "code",
   "execution_count": 5,
   "metadata": {},
   "outputs": [
    {
     "data": {
      "text/plain": [
       "(199523, 41)"
      ]
     },
     "execution_count": 5,
     "metadata": {},
     "output_type": "execute_result"
    }
   ],
   "source": [
    "input_data.shape"
   ]
  },
  {
   "cell_type": "code",
   "execution_count": 6,
   "metadata": {},
   "outputs": [
    {
     "data": {
      "text/plain": [
       "count    199523.000000\n",
       "mean     -43794.199165\n",
       "std       24126.148404\n",
       "min      -50000.000000\n",
       "25%      -50000.000000\n",
       "50%      -50000.000000\n",
       "75%      -50000.000000\n",
       "max       50000.000000\n",
       "Name: income_level, dtype: float64"
      ]
     },
     "execution_count": 6,
     "metadata": {},
     "output_type": "execute_result"
    }
   ],
   "source": [
    "## Descriptive Statistics \n",
    "## Here we are interested to understand the income_level variable. That is our dependent variable we want to predict\n",
    "input_data['income_level'].describe()\n"
   ]
  },
  {
   "cell_type": "code",
   "execution_count": 7,
   "metadata": {},
   "outputs": [
    {
     "data": {
      "text/plain": [
       "array([-50000,  50000])"
      ]
     },
     "execution_count": 7,
     "metadata": {},
     "output_type": "execute_result"
    }
   ],
   "source": [
    "input_data['income_level'].unique()"
   ]
  },
  {
   "cell_type": "code",
   "execution_count": 8,
   "metadata": {},
   "outputs": [
    {
     "data": {
      "text/plain": [
       "age                                  int64\n",
       "class_of_worker                     object\n",
       "industry_code                        int64\n",
       "occupation_code                      int64\n",
       "education                           object\n",
       "wage_per_hour                        int64\n",
       "enrolled_in_edu_inst_lastwk         object\n",
       "marital_status                      object\n",
       "major_industry_code                 object\n",
       "major_occupation_code               object\n",
       "race                                object\n",
       "hispanic_origin                     object\n",
       "sex                                 object\n",
       "member_of_labor_union               object\n",
       "reason_for_unemployment             object\n",
       "full_parttime_employment_stat       object\n",
       "capital_gains                        int64\n",
       "capital_losses                       int64\n",
       "dividend_from_Stocks                 int64\n",
       "tax_filer_status                    object\n",
       "region_of_previous_residence        object\n",
       "state_of_previous_residence         object\n",
       "d_household_family_stat             object\n",
       "d_household_summary                 object\n",
       "migration_msa                       object\n",
       "migration_reg                       object\n",
       "migration_within_reg                object\n",
       "live_1_year_ago                     object\n",
       "migration_sunbelt                   object\n",
       "num_person_Worked_employer           int64\n",
       "family_members_under_18             object\n",
       "country_father                      object\n",
       "country_mother                      object\n",
       "country_self                        object\n",
       "citizenship                         object\n",
       "business_or_self_employed            int64\n",
       "fill_questionnaire_veteran_admin    object\n",
       "veterans_benefits                    int64\n",
       "weeks_worked_in_year                 int64\n",
       "year                                 int64\n",
       "income_level                         int64\n",
       "dtype: object"
      ]
     },
     "execution_count": 8,
     "metadata": {},
     "output_type": "execute_result"
    }
   ],
   "source": [
    "input_data.dtypes"
   ]
  },
  {
   "cell_type": "code",
   "execution_count": 9,
   "metadata": {},
   "outputs": [],
   "source": [
    "input_data.loc[ input_data['income_level'] == -50000, 'income_level'] = 0"
   ]
  },
  {
   "cell_type": "code",
   "execution_count": 10,
   "metadata": {},
   "outputs": [],
   "source": [
    "input_data.loc[ input_data['income_level'] == 50000, 'income_level'] = 1"
   ]
  },
  {
   "cell_type": "code",
   "execution_count": 11,
   "metadata": {},
   "outputs": [
    {
     "data": {
      "text/plain": [
       "0    187141\n",
       "1     12382\n",
       "Name: income_level, dtype: int64"
      ]
     },
     "execution_count": 11,
     "metadata": {},
     "output_type": "execute_result"
    }
   ],
   "source": [
    "input_data['income_level'].value_counts()"
   ]
  },
  {
   "cell_type": "code",
   "execution_count": 12,
   "metadata": {},
   "outputs": [
    {
     "data": {
      "text/plain": [
       "<matplotlib.axes._subplots.AxesSubplot at 0x7f890d0d27f0>"
      ]
     },
     "execution_count": 12,
     "metadata": {},
     "output_type": "execute_result"
    }
   ],
   "source": [
    "#Imbalanced classes for the dependent variables\n",
    "input_data['income_level'].value_counts().plot(kind='bar')"
   ]
  },
  {
   "cell_type": "code",
   "execution_count": 13,
   "metadata": {},
   "outputs": [
    {
     "data": {
      "text/plain": [
       "0    0.937942\n",
       "1    0.062058\n",
       "Name: income_level, dtype: float64"
      ]
     },
     "execution_count": 13,
     "metadata": {},
     "output_type": "execute_result"
    }
   ],
   "source": [
    "input_data['income_level'].value_counts(normalize=True)\n",
    "## 93.7 % below 50k income and others above 50k"
   ]
  },
  {
   "cell_type": "code",
   "execution_count": 14,
   "metadata": {},
   "outputs": [
    {
     "data": {
      "text/plain": [
       "age                                     0\n",
       "class_of_worker                         0\n",
       "industry_code                           0\n",
       "occupation_code                         0\n",
       "education                               0\n",
       "wage_per_hour                           0\n",
       "enrolled_in_edu_inst_lastwk             0\n",
       "marital_status                          0\n",
       "major_industry_code                     0\n",
       "major_occupation_code                   0\n",
       "race                                    0\n",
       "hispanic_origin                       874\n",
       "sex                                     0\n",
       "member_of_labor_union                   0\n",
       "reason_for_unemployment                 0\n",
       "full_parttime_employment_stat           0\n",
       "capital_gains                           0\n",
       "capital_losses                          0\n",
       "dividend_from_Stocks                    0\n",
       "tax_filer_status                        0\n",
       "region_of_previous_residence            0\n",
       "state_of_previous_residence           708\n",
       "d_household_family_stat                 0\n",
       "d_household_summary                     0\n",
       "migration_msa                       99696\n",
       "migration_reg                       99696\n",
       "migration_within_reg                99696\n",
       "live_1_year_ago                         0\n",
       "migration_sunbelt                   99696\n",
       "num_person_Worked_employer              0\n",
       "family_members_under_18                 0\n",
       "country_father                       6713\n",
       "country_mother                       6119\n",
       "country_self                         3393\n",
       "citizenship                             0\n",
       "business_or_self_employed               0\n",
       "fill_questionnaire_veteran_admin        0\n",
       "veterans_benefits                       0\n",
       "weeks_worked_in_year                    0\n",
       "year                                    0\n",
       "income_level                            0\n",
       "dtype: int64"
      ]
     },
     "execution_count": 14,
     "metadata": {},
     "output_type": "execute_result"
    }
   ],
   "source": [
    "## Columnwise count of NA's\n",
    "input_data.isnull().sum()"
   ]
  },
  {
   "cell_type": "code",
   "execution_count": 15,
   "metadata": {},
   "outputs": [
    {
     "data": {
      "text/plain": [
       "count        198649\n",
       "unique            9\n",
       "top       All other\n",
       "freq         171907\n",
       "Name: hispanic_origin, dtype: object"
      ]
     },
     "execution_count": 15,
     "metadata": {},
     "output_type": "execute_result"
    }
   ],
   "source": [
    "## Hispanic Origin NA Treatment\n",
    "input_data['hispanic_origin'].describe()"
   ]
  },
  {
   "cell_type": "code",
   "execution_count": 16,
   "metadata": {},
   "outputs": [
    {
     "data": {
      "text/plain": [
       "0.004399720109338582"
      ]
     },
     "execution_count": 16,
     "metadata": {},
     "output_type": "execute_result"
    }
   ],
   "source": [
    "input_data['hispanic_origin'].isnull().sum()/input_data['hispanic_origin'].count()"
   ]
  },
  {
   "cell_type": "code",
   "execution_count": 17,
   "metadata": {},
   "outputs": [
    {
     "data": {
      "text/plain": [
       "All other                    0.865381\n",
       "Mexican-American             0.040670\n",
       "Mexican (Mexicano)           0.036416\n",
       "Central or South American    0.019607\n",
       "Puerto Rican                 0.016678\n",
       "Other Spanish                0.012510\n",
       "Cuban                        0.005668\n",
       "Do not know                  0.001540\n",
       "Chicano                      0.001530\n",
       "Name: hispanic_origin, dtype: float64"
      ]
     },
     "execution_count": 17,
     "metadata": {},
     "output_type": "execute_result"
    }
   ],
   "source": [
    "input_data['hispanic_origin'].value_counts(normalize=True)"
   ]
  },
  {
   "cell_type": "code",
   "execution_count": 18,
   "metadata": {},
   "outputs": [],
   "source": [
    "input_data['hispanic_origin'] = input_data['hispanic_origin'].fillna('All other')\n",
    "input_data['state_of_previous_residence'] = input_data['state_of_previous_residence'].fillna('Not in universe')\n",
    "input_data['country_father'] = input_data['country_father'].fillna('United-States')\n",
    "input_data['country_mother'] = input_data['country_mother'].fillna('United-States')\n",
    "input_data['country_self'] = input_data['country_self'].fillna('United-States')\n",
    "input_data['migration_msa'] = input_data['migration_msa'].fillna(input_data['migration_msa'].value_counts(normalize=True).index[0])\n",
    "input_data['migration_reg'] = input_data['migration_reg'].fillna(input_data['migration_reg'].value_counts(normalize=True).index[0])\n",
    "input_data['migration_within_reg'] = input_data['migration_within_reg'].fillna(input_data['migration_within_reg'].value_counts(normalize=True).index[0])\n",
    "input_data['migration_sunbelt'] = input_data['migration_sunbelt'].fillna(input_data['migration_sunbelt'].value_counts(normalize=True).index[0])"
   ]
  },
  {
   "cell_type": "code",
   "execution_count": 19,
   "metadata": {},
   "outputs": [
    {
     "data": {
      "text/plain": [
       "age                                 0\n",
       "class_of_worker                     0\n",
       "industry_code                       0\n",
       "occupation_code                     0\n",
       "education                           0\n",
       "wage_per_hour                       0\n",
       "enrolled_in_edu_inst_lastwk         0\n",
       "marital_status                      0\n",
       "major_industry_code                 0\n",
       "major_occupation_code               0\n",
       "race                                0\n",
       "hispanic_origin                     0\n",
       "sex                                 0\n",
       "member_of_labor_union               0\n",
       "reason_for_unemployment             0\n",
       "full_parttime_employment_stat       0\n",
       "capital_gains                       0\n",
       "capital_losses                      0\n",
       "dividend_from_Stocks                0\n",
       "tax_filer_status                    0\n",
       "region_of_previous_residence        0\n",
       "state_of_previous_residence         0\n",
       "d_household_family_stat             0\n",
       "d_household_summary                 0\n",
       "migration_msa                       0\n",
       "migration_reg                       0\n",
       "migration_within_reg                0\n",
       "live_1_year_ago                     0\n",
       "migration_sunbelt                   0\n",
       "num_person_Worked_employer          0\n",
       "family_members_under_18             0\n",
       "country_father                      0\n",
       "country_mother                      0\n",
       "country_self                        0\n",
       "citizenship                         0\n",
       "business_or_self_employed           0\n",
       "fill_questionnaire_veteran_admin    0\n",
       "veterans_benefits                   0\n",
       "weeks_worked_in_year                0\n",
       "year                                0\n",
       "income_level                        0\n",
       "dtype: int64"
      ]
     },
     "execution_count": 19,
     "metadata": {},
     "output_type": "execute_result"
    }
   ],
   "source": [
    "## Check we have no NA's\n",
    "input_data.isnull().sum()"
   ]
  },
  {
   "cell_type": "code",
   "execution_count": 20,
   "metadata": {},
   "outputs": [],
   "source": [
    "test_data = pd.read_csv('test.csv')"
   ]
  },
  {
   "cell_type": "code",
   "execution_count": 21,
   "metadata": {},
   "outputs": [
    {
     "data": {
      "text/plain": [
       "age                                 0\n",
       "class_of_worker                     0\n",
       "industry_code                       0\n",
       "occupation_code                     0\n",
       "education                           0\n",
       "wage_per_hour                       0\n",
       "enrolled_in_edu_inst_lastwk         0\n",
       "marital_status                      0\n",
       "major_industry_code                 0\n",
       "major_occupation_code               0\n",
       "race                                0\n",
       "hispanic_origin                     0\n",
       "sex                                 0\n",
       "member_of_labor_union               0\n",
       "reason_for_unemployment             0\n",
       "full_parttime_employment_stat       0\n",
       "capital_gains                       0\n",
       "capital_losses                      0\n",
       "dividend_from_Stocks                0\n",
       "tax_filer_status                    0\n",
       "region_of_previous_residence        0\n",
       "state_of_previous_residence         0\n",
       "d_household_family_stat             0\n",
       "d_household_summary                 0\n",
       "migration_msa                       0\n",
       "migration_reg                       0\n",
       "migration_within_reg                0\n",
       "live_1_year_ago                     0\n",
       "migration_sunbelt                   0\n",
       "num_person_Worked_employer          0\n",
       "family_members_under_18             0\n",
       "country_father                      0\n",
       "country_mother                      0\n",
       "country_self                        0\n",
       "citizenship                         0\n",
       "business_or_self_employed           0\n",
       "fill_questionnaire_veteran_admin    0\n",
       "veterans_benefits                   0\n",
       "weeks_worked_in_year                0\n",
       "year                                0\n",
       "income_level                        0\n",
       "dtype: int64"
      ]
     },
     "execution_count": 21,
     "metadata": {},
     "output_type": "execute_result"
    }
   ],
   "source": [
    "test_data.isnull().sum()"
   ]
  },
  {
   "cell_type": "code",
   "execution_count": 25,
   "metadata": {},
   "outputs": [],
   "source": [
    "input_data.to_csv('train_cleaned.csv', index=False)"
   ]
  },
  {
   "cell_type": "code",
   "execution_count": 24,
   "metadata": {},
   "outputs": [
    {
     "name": "stdout",
     "output_type": "stream",
     "text": [
      "Help on method to_csv in module pandas.core.frame:\n",
      "\n",
      "to_csv(path_or_buf=None, sep=',', na_rep='', float_format=None, columns=None, header=True, index=True, index_label=None, mode='w', encoding=None, compression=None, quoting=None, quotechar='\"', line_terminator='\\n', chunksize=None, tupleize_cols=None, date_format=None, doublequote=True, escapechar=None, decimal='.') method of pandas.core.frame.DataFrame instance\n",
      "    Write DataFrame to a comma-separated values (csv) file\n",
      "    \n",
      "    Parameters\n",
      "    ----------\n",
      "    path_or_buf : string or file handle, default None\n",
      "        File path or object, if None is provided the result is returned as\n",
      "        a string.\n",
      "    sep : character, default ','\n",
      "        Field delimiter for the output file.\n",
      "    na_rep : string, default ''\n",
      "        Missing data representation\n",
      "    float_format : string, default None\n",
      "        Format string for floating point numbers\n",
      "    columns : sequence, optional\n",
      "        Columns to write\n",
      "    header : boolean or list of string, default True\n",
      "        Write out the column names. If a list of strings is given it is\n",
      "        assumed to be aliases for the column names\n",
      "    index : boolean, default True\n",
      "        Write row names (index)\n",
      "    index_label : string or sequence, or False, default None\n",
      "        Column label for index column(s) if desired. If None is given, and\n",
      "        `header` and `index` are True, then the index names are used. A\n",
      "        sequence should be given if the DataFrame uses MultiIndex.  If\n",
      "        False do not print fields for index names. Use index_label=False\n",
      "        for easier importing in R\n",
      "    mode : str\n",
      "        Python write mode, default 'w'\n",
      "    encoding : string, optional\n",
      "        A string representing the encoding to use in the output file,\n",
      "        defaults to 'ascii' on Python 2 and 'utf-8' on Python 3.\n",
      "    compression : string, optional\n",
      "        A string representing the compression to use in the output file.\n",
      "        Allowed values are 'gzip', 'bz2', 'zip', 'xz'. This input is only\n",
      "        used when the first argument is a filename.\n",
      "    line_terminator : string, default ``'\\n'``\n",
      "        The newline character or character sequence to use in the output\n",
      "        file\n",
      "    quoting : optional constant from csv module\n",
      "        defaults to csv.QUOTE_MINIMAL. If you have set a `float_format`\n",
      "        then floats are converted to strings and thus csv.QUOTE_NONNUMERIC\n",
      "        will treat them as non-numeric\n",
      "    quotechar : string (length 1), default '\\\"'\n",
      "        character used to quote fields\n",
      "    doublequote : boolean, default True\n",
      "        Control quoting of `quotechar` inside a field\n",
      "    escapechar : string (length 1), default None\n",
      "        character used to escape `sep` and `quotechar` when appropriate\n",
      "    chunksize : int or None\n",
      "        rows to write at a time\n",
      "    tupleize_cols : boolean, default False\n",
      "        .. deprecated:: 0.21.0\n",
      "           This argument will be removed and will always write each row\n",
      "           of the multi-index as a separate row in the CSV file.\n",
      "    \n",
      "        Write MultiIndex columns as a list of tuples (if True) or in\n",
      "        the new, expanded format, where each MultiIndex column is a row\n",
      "        in the CSV (if False).\n",
      "    date_format : string, default None\n",
      "        Format string for datetime objects\n",
      "    decimal: string, default '.'\n",
      "        Character recognized as decimal separator. E.g. use ',' for\n",
      "        European data\n",
      "\n"
     ]
    }
   ],
   "source": [
    "help(input_data.to_csv)"
   ]
  },
  {
   "cell_type": "code",
   "execution_count": null,
   "metadata": {},
   "outputs": [],
   "source": []
  }
 ],
 "metadata": {
  "kernelspec": {
   "display_name": "Python 3",
   "language": "python",
   "name": "python3"
  },
  "language_info": {
   "codemirror_mode": {
    "name": "ipython",
    "version": 3
   },
   "file_extension": ".py",
   "mimetype": "text/x-python",
   "name": "python",
   "nbconvert_exporter": "python",
   "pygments_lexer": "ipython3",
   "version": "3.6.6"
  }
 },
 "nbformat": 4,
 "nbformat_minor": 2
}
